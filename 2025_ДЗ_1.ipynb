{
  "nbformat": 4,
  "nbformat_minor": 0,
  "metadata": {
    "colab": {
      "provenance": [],
      "include_colab_link": true
    },
    "kernelspec": {
      "name": "python3",
      "display_name": "Python 3"
    },
    "language_info": {
      "name": "python"
    }
  },
  "cells": [
    {
      "cell_type": "markdown",
      "metadata": {
        "id": "view-in-github",
        "colab_type": "text"
      },
      "source": [
        "<a href=\"https://colab.research.google.com/github/tuktomish/pr/blob/main/2025_%D0%94%D0%97_1.ipynb\" target=\"_parent\"><img src=\"https://colab.research.google.com/assets/colab-badge.svg\" alt=\"Open In Colab\"/></a>"
      ]
    },
    {
      "cell_type": "markdown",
      "source": [
        "1) Загрузить файл с метеоданными (`33946.dat`) в таблицу. Назначить имена столбцам (год, месяц, число, флаг1, флаг2, ..., Тмин, Тср, Тмакс, Осадки и т.д.).\n"
      ],
      "metadata": {
        "id": "jDzOMQAzlxSs"
      }
    },
    {
      "cell_type": "code",
      "source": [],
      "metadata": {
        "id": "xN6_f4S9mU-E"
      },
      "execution_count": null,
      "outputs": []
    },
    {
      "cell_type": "markdown",
      "source": [
        "2) Найти строки с очевидными ошибками в данных. Исправить ошибки."
      ],
      "metadata": {
        "id": "vyAMb3J-YXtn"
      }
    },
    {
      "cell_type": "code",
      "source": [],
      "metadata": {
        "id": "1K-m-MtFYYor"
      },
      "execution_count": null,
      "outputs": []
    },
    {
      "cell_type": "markdown",
      "source": [
        "3) При какой средней температуре выпадает от 5 до 15 мм осадков в сутки?"
      ],
      "metadata": {
        "id": "bYaVE8YsnFKv"
      }
    },
    {
      "cell_type": "code",
      "source": [],
      "metadata": {
        "id": "LQ0cDK2wnPJp"
      },
      "execution_count": null,
      "outputs": []
    },
    {
      "cell_type": "markdown",
      "source": [
        "4) В какие месяцы встречались 0.5% самых дождливых дней?"
      ],
      "metadata": {
        "id": "kKDfpsgwnseK"
      }
    },
    {
      "cell_type": "code",
      "source": [],
      "metadata": {
        "id": "8Qghgk1loEBK"
      },
      "execution_count": null,
      "outputs": []
    },
    {
      "cell_type": "markdown",
      "source": [
        "5) Напечатать даты с самыми холодными и самыми жаркими днями (по 1%). Сколько таких дней?"
      ],
      "metadata": {
        "id": "OZQ_fH1FoR0_"
      }
    },
    {
      "cell_type": "code",
      "source": [],
      "metadata": {
        "id": "ToLfHZpZoaBN"
      },
      "execution_count": null,
      "outputs": []
    },
    {
      "cell_type": "markdown",
      "source": [
        "6а) Расчитать среднемесячные температуры и суммы осадков для периодов до 1920 и после 1990 гг.\n",
        "\n",
        "6б) Построить климатограммы.\n"
      ],
      "metadata": {
        "id": "n2mJfsh0oiHC"
      }
    },
    {
      "cell_type": "code",
      "source": [],
      "metadata": {
        "id": "gc0ptVsouoEk"
      },
      "execution_count": null,
      "outputs": []
    },
    {
      "cell_type": "markdown",
      "source": [
        "7) Для каждого месяца процент дней с максимальными температурами от 15 до 20 градусов. Для этих дней рассчитать медиану осадков (для каждого месяца). Как изменялись эти характеристики (процент дней и медиана осадков для этих дней) во времени для мая и для июля?"
      ],
      "metadata": {
        "id": "8BcvApF0s8ZY"
      }
    },
    {
      "cell_type": "code",
      "source": [],
      "metadata": {
        "id": "vX-wwhHreD59"
      },
      "execution_count": null,
      "outputs": []
    },
    {
      "cell_type": "markdown",
      "source": [
        "8) Прочитать данные из файла SampleSuperstore.csv в датафрейм. Убрать полные дубликаты в датафрейме (`drop_duplicates()`). Какое количество уникальных подкатегорий (Sub-Category) в данных?"
      ],
      "metadata": {
        "id": "aKNmy0o5c97d"
      }
    },
    {
      "cell_type": "code",
      "source": [],
      "metadata": {
        "id": "TJhP8T4Bozbj"
      },
      "execution_count": null,
      "outputs": []
    },
    {
      "cell_type": "markdown",
      "source": [
        "9) Определить штат, в котором были самые низкие продажи в деньгах. Расчитать  новый параметр для каждой строки датафрейма ProfitMargin (частное profit и sales)."
      ],
      "metadata": {
        "id": "NMfXlRuwdDme"
      }
    },
    {
      "cell_type": "code",
      "source": [],
      "metadata": {
        "id": "MGh6n7WOpNsd"
      },
      "execution_count": null,
      "outputs": []
    },
    {
      "cell_type": "markdown",
      "source": [
        "10) Для штатов с отрицательной маржинальностью (profit margin) выделить, какие подкатегории вносят наибольший вклад в суммарный профит (показать суммарный профит по категориям)."
      ],
      "metadata": {
        "id": "MeH0graawnkH"
      }
    },
    {
      "cell_type": "code",
      "source": [],
      "metadata": {
        "id": "hd-BkkcuwqPq"
      },
      "execution_count": null,
      "outputs": []
    }
  ]
}